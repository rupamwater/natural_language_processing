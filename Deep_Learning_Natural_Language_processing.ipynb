{
 "cells": [
  {
   "cell_type": "code",
   "execution_count": 20,
   "id": "3af2b5e3-c256-4f1b-8f48-d7b1993a6805",
   "metadata": {},
   "outputs": [
    {
     "ename": "ModuleNotFoundError",
     "evalue": "No module named 'sklearn'",
     "output_type": "error",
     "traceback": [
      "\u001b[1;31m---------------------------------------------------------------------------\u001b[0m",
      "\u001b[1;31mModuleNotFoundError\u001b[0m                       Traceback (most recent call last)",
      "Cell \u001b[1;32mIn[20], line 6\u001b[0m\n\u001b[0;32m      4\u001b[0m \u001b[38;5;28;01mfrom\u001b[39;00m \u001b[38;5;21;01mkeras\u001b[39;00m\u001b[38;5;21;01m.\u001b[39;00m\u001b[38;5;21;01mutils\u001b[39;00m \u001b[38;5;28;01mimport\u001b[39;00m pad_sequences\n\u001b[0;32m      5\u001b[0m \u001b[38;5;28;01mfrom\u001b[39;00m \u001b[38;5;21;01mkeras\u001b[39;00m\u001b[38;5;21;01m.\u001b[39;00m\u001b[38;5;21;01moptimizers\u001b[39;00m \u001b[38;5;28;01mimport\u001b[39;00m Adam\n\u001b[1;32m----> 6\u001b[0m \u001b[38;5;28;01mfrom\u001b[39;00m \u001b[38;5;21;01msklearn\u001b[39;00m\u001b[38;5;21;01m.\u001b[39;00m\u001b[38;5;21;01mmetrics\u001b[39;00m \u001b[38;5;28;01mimport\u001b[39;00m roc_auc_score\n\u001b[0;32m      7\u001b[0m \u001b[38;5;28;01mimport\u001b[39;00m \u001b[38;5;21;01mnumpy\u001b[39;00m \u001b[38;5;28;01mas\u001b[39;00m \u001b[38;5;21;01mnp\u001b[39;00m\n\u001b[0;32m      8\u001b[0m \u001b[38;5;28;01mimport\u001b[39;00m \u001b[38;5;21;01mmatplotlib\u001b[39;00m\u001b[38;5;21;01m.\u001b[39;00m\u001b[38;5;21;01mpyplot\u001b[39;00m \u001b[38;5;28;01mas\u001b[39;00m \u001b[38;5;21;01mplt\u001b[39;00m\n",
      "\u001b[1;31mModuleNotFoundError\u001b[0m: No module named 'sklearn'"
     ]
    }
   ],
   "source": [
    "from keras.models import Model\n",
    "from keras.layers import Input, LSTM, GRU,  Bidirectional, GlobalMaxPool1D, Dropout\n",
    "from keras.preprocessing.text import Tokenizer\n",
    "from keras.utils import pad_sequences\n",
    "from keras.optimizers import Adam\n",
    "from sklearn.metrics import roc_auc_score\n",
    "import numpy as np\n",
    "import matplotlib.pyplot as plt"
   ]
  },
  {
   "cell_type": "code",
   "execution_count": 3,
   "id": "272738ee-c150-4217-906f-f25a407857a3",
   "metadata": {},
   "outputs": [],
   "source": [
    "# Input domensions and output\n",
    "T = 8\n",
    "D = 2\n",
    "M = 3"
   ]
  },
  {
   "cell_type": "markdown",
   "id": "a1082a95-47c5-4951-aea3-f3cf340f49d4",
   "metadata": {},
   "source": [
    "### LSTM return state"
   ]
  },
  {
   "cell_type": "code",
   "execution_count": 4,
   "id": "caa8281b-b883-403f-8220-0589cdc7057b",
   "metadata": {},
   "outputs": [],
   "source": [
    "X = np.random.randn(1, T, D)"
   ]
  },
  {
   "cell_type": "code",
   "execution_count": 14,
   "id": "eb65313a-14db-4ff9-aa76-cfc765d23ed2",
   "metadata": {},
   "outputs": [],
   "source": [
    "input_ = Input(shape=(T, D))\n",
    "rnn = LSTM(M, return_state=True)\n",
    "x = rnn(input_)\n",
    "\n",
    "model = Model(inputs=input_, outputs=x)"
   ]
  },
  {
   "cell_type": "code",
   "execution_count": 15,
   "id": "038812b5-e563-4583-abd5-faa33f48041c",
   "metadata": {},
   "outputs": [
    {
     "name": "stdout",
     "output_type": "stream",
     "text": [
      "1/1 [==============================] - 1s 610ms/step\n"
     ]
    }
   ],
   "source": [
    "o, h, c = model.predict(X)"
   ]
  },
  {
   "cell_type": "code",
   "execution_count": 16,
   "id": "41df63b9-7662-49f9-aae5-75a617fa6041",
   "metadata": {},
   "outputs": [
    {
     "name": "stdout",
     "output_type": "stream",
     "text": [
      "input :  [[[ 2.05703374 -0.94353   ]\n",
      "  [-0.66893828 -0.39338693]\n",
      "  [ 0.2188616   1.06320145]\n",
      "  [ 1.01350239 -0.60278168]\n",
      "  [-1.5198871  -0.04643683]\n",
      "  [ 1.95001292  1.09170271]\n",
      "  [ 0.99176862 -0.93368745]\n",
      "  [ 2.12476823 -0.73377762]]]\n",
      "output : [[-0.4423778  -0.25811207 -0.2046507 ]]\n",
      "hidden : [[-0.4423778  -0.25811207 -0.2046507 ]]\n",
      "cell : [[-0.7959183  -0.49544334 -0.39185256]]\n"
     ]
    }
   ],
   "source": [
    "print(\"input : \" , X)\n",
    "print(\"output :\", o)\n",
    "print(\"hidden :\", h)\n",
    "print(\"cell :\", c)"
   ]
  },
  {
   "cell_type": "markdown",
   "id": "7e013304-2463-49b8-b759-4d10e9f6043c",
   "metadata": {},
   "source": [
    "### LSTM return sequences"
   ]
  },
  {
   "cell_type": "code",
   "execution_count": 17,
   "id": "2b91f512-3495-427e-903a-02bcbd42a3b9",
   "metadata": {},
   "outputs": [],
   "source": [
    "input_ = Input(shape=(T, D))\n",
    "rnn = LSTM(M, return_state=True, return_sequences=True)\n",
    "# rnn = GRU(M, return_state=True)\n",
    "x = rnn(input_)"
   ]
  },
  {
   "cell_type": "code",
   "execution_count": 18,
   "id": "4a43f0e9-058b-49c6-acfe-450228684139",
   "metadata": {},
   "outputs": [
    {
     "name": "stdout",
     "output_type": "stream",
     "text": [
      "1/1 [==============================] - 1s 604ms/step\n"
     ]
    }
   ],
   "source": [
    "model = Model(inputs=input_, outputs=x)\n",
    "o, h, c = model.predict(X)"
   ]
  },
  {
   "cell_type": "code",
   "execution_count": 19,
   "id": "aa9da683-8f76-4035-ad82-beff5fb7a2ac",
   "metadata": {},
   "outputs": [
    {
     "name": "stdout",
     "output_type": "stream",
     "text": [
      "input :  [[[ 2.05703374 -0.94353   ]\n",
      "  [-0.66893828 -0.39338693]\n",
      "  [ 0.2188616   1.06320145]\n",
      "  [ 1.01350239 -0.60278168]\n",
      "  [-1.5198871  -0.04643683]\n",
      "  [ 1.95001292  1.09170271]\n",
      "  [ 0.99176862 -0.93368745]\n",
      "  [ 2.12476823 -0.73377762]]]\n",
      "output : [[[-0.17401882 -0.06990511  0.29268667]\n",
      "  [-0.03552539 -0.03941612  0.1072347 ]\n",
      "  [ 0.08835864 -0.00587154  0.00334775]\n",
      "  [-0.09050474 -0.04651064  0.16614224]\n",
      "  [ 0.14838171 -0.00531658 -0.01093786]\n",
      "  [ 0.0042341  -0.02177207  0.04132164]\n",
      "  [-0.1772833  -0.05969543  0.22257826]\n",
      "  [-0.2965945  -0.13685454  0.40732443]]]\n",
      "hidden : [[-0.2965945  -0.13685454  0.40732443]]\n",
      "cell : [[-0.51004064 -0.17464851  0.81364316]]\n"
     ]
    }
   ],
   "source": [
    "print(\"input : \" , X)\n",
    "print(\"output :\", o)\n",
    "print(\"hidden :\", h)\n",
    "print(\"cell :\", c)"
   ]
  },
  {
   "cell_type": "code",
   "execution_count": null,
   "id": "4184f9c6-a060-4d30-b81a-86030b3f366e",
   "metadata": {},
   "outputs": [],
   "source": []
  }
 ],
 "metadata": {
  "kernelspec": {
   "display_name": "Python 3 (ipykernel)",
   "language": "python",
   "name": "python3"
  },
  "language_info": {
   "codemirror_mode": {
    "name": "ipython",
    "version": 3
   },
   "file_extension": ".py",
   "mimetype": "text/x-python",
   "name": "python",
   "nbconvert_exporter": "python",
   "pygments_lexer": "ipython3",
   "version": "3.11.9"
  }
 },
 "nbformat": 4,
 "nbformat_minor": 5
}
